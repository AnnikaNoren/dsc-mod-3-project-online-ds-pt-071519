{
 "cells": [
  {
   "cell_type": "code",
   "execution_count": 1,
   "metadata": {},
   "outputs": [],
   "source": [
    "import sqlite3 \n",
    "import pandas as pd\n",
    "conn = sqlite3.connect('Northwind_small.sqlite')\n",
    "c = conn.cursor()"
   ]
  },
  {
   "cell_type": "code",
   "execution_count": 2,
   "metadata": {},
   "outputs": [],
   "source": [
    "# discount for products grouped by 1 of 8 categories\n",
    "# c.execute(\"\"\"SELECT productname, categoryId, discount\n",
    "#              FROM orderdetail\n",
    "#              JOIN product\n",
    "#              ON orderdetail.productId = product.Id\n",
    "#              WHERE categoryId = 1\n",
    "#              ORDER BY productname ASC\n",
    "#              ;\"\"\")\n",
    "\n",
    "# price multiplied by quanity for each order, with average discount\n",
    "# c.execute(\"\"\"SELECT orderid, SUM(unitprice * quantity) AS total, AVG(discount) AS Avg_Disc\n",
    "#              FROM orderdetail\n",
    "#              GROUP BY orderid\n",
    "#              ;\"\"\")\n",
    "\n",
    "# This created 336,000 rows and discounts were all 0%\n",
    "# c.execute(\"\"\"SELECT *\n",
    "#              FROM 'order'\n",
    "#              JOIN orderdetail\n",
    "#              WHERE employeeId = 4\n",
    "#              ;\"\"\")\n",
    "\n",
    "# Average discount per employee, all within 5-6% range\n",
    "# c.execute(\"\"\"SELECT orderid, unitPrice,quantity, AVG(discount),employeeid\n",
    "#              FROM orderdetail\n",
    "#              JOIN 'order' as o\n",
    "#              ON orderdetail.orderid = o.id\n",
    "#              WHERE employeeID=9\n",
    "#              ;\"\"\")\n",
    "\n",
    "# goods sold for 1 employee for by orderid\n",
    "# c.execute(\"\"\"SELECT orderid, SUM(unitPrice * quantity) AS Goods_sold, employeeId\n",
    "#              FROM orderdetail\n",
    "#              JOIN 'order' as o\n",
    "#              ON orderdetail.orderid = o.id\n",
    "#              WHERE employeeID=9\n",
    "#              GROUP BY orderid\n",
    "#              ;\"\"\")\n",
    "\n",
    "# total sales (count and cost) for each 9 employees\n",
    "# c.execute(\"\"\"SELECT count(orderid) AS count,SUM(unitPrice * quantity) AS Goods_sold,employeeId\n",
    "#              FROM orderdetail\n",
    "#              JOIN 'order' as o\n",
    "#              ON orderdetail.orderid = o.id\n",
    "#              WHERE employeeID=9\n",
    "#              ;\"\"\")\n",
    "\n",
    "# names, id, country and title of 9 employees\n",
    "# c.execute(\"\"\"SELECT lastname, id,country, title\n",
    "#              FROM employee\n",
    "#              ;\"\"\")\n",
    "\n",
    "#orders sales by date\n",
    "# c.execute(\"\"\"SELECT orderid, SUM(unitPrice*quantity) AS sale, orderdate\n",
    "#              FROM orderdetail\n",
    "#              JOIN 'order' as o\n",
    "#              ON orderdetail.orderid = o.id\n",
    "#              GROUP BY orderid\n",
    "#              ;\"\"\")\n",
    "\n",
    "# sum of order sales by month\n",
    "# c.execute(\"\"\"SELECT SUM(unitPrice*quantity) AS sale, orderdate\n",
    "#              FROM orderdetail\n",
    "#              JOIN 'order' as o\n",
    "#              ON orderdetail.orderid = o.id\n",
    "#              WHERE orderdate between '2014-04-01' and '2014-04-31'\n",
    "#              ;\"\"\")\n",
    "\n",
    "# I was looking to see if all employees contributed to sales, but could look at hire date instead\n",
    "# Result: employee #7 made 2 sales in August, 2012 but none in July, 2012 - was that the hire date?\n",
    "# c.execute(\"\"\"SELECT employeeid, orderid, orderdate\n",
    "#              FROM orderdetail\n",
    "#              JOIN 'order' as o\n",
    "#              ON orderdetail.orderid = o.id\n",
    "#              WHERE orderdate between '2012-08-01' and '2012-08-31'\n",
    "#              ORDER BY employeeid \n",
    "#              ;\"\"\")\n",
    "\n",
    "# HireDate returned values in 2024, 2025 and 2026. Back to checking if all 9 employees worked\n",
    "# at Northwind from the July, 2012 until April, 2014 by using the method above\n",
    "# c.execute(\"\"\"SELECT lastname, hiredate\n",
    "#              FROM employee\n",
    "#              ;\"\"\")\n",
    "\n",
    "# c.execute(\"\"\"SELECT *\n",
    "#              FROM product\n",
    "#              ;\"\"\")\n",
    "\n",
    "# product #1, quantity and 0 discount\n",
    "# c.execute(\"\"\"SELECT orderid,productid,quantity,discount\n",
    "#              FROM orderdetail AS O\n",
    "#              JOIN product AS P\n",
    "#              ON (O.productid = P.id)\n",
    "#              WHERE productId = 1 AND DISCOUNT = 0.0\n",
    "#              ;\"\"\")\n",
    "\n",
    "# df = pd.DataFrame(c.fetchall())\n",
    "# df.columns = [x[0] for x in c.description]\n",
    "# df\n"
   ]
  },
  {
   "cell_type": "markdown",
   "metadata": {},
   "source": [
    "# Question 1a. Does discount amount have a statistically significant effect on the quantity of a product in a order?\n",
    "\n",
    "### Discount Per Category, mean quantity sold\n",
    "|Category | discount |mean quantity sold|count|\n",
    "|---------|----------|------------------|-----|\n",
    "|1        |N         |20.8              |246  |\n",
    "|1        |Y         |27.9              |158  |\n",
    "|2        |N         |21.3              |131  |\n",
    "|2        |Y         |29.5              |85   |\n",
    "|3        |N         |23.1              |200  |\n",
    "|3        |Y         |24.5              |134  |\n",
    "|4        |N         |22.2              |224  |\n",
    "|4        |Y         |29.5              |142  |\n",
    "|5        |N         |22.7              |133  |\n",
    "|5        |Y         |24.4              |63   |\n",
    "|6        |N         |20.7              |97   |\n",
    "|6        |Y         |28.8              |76   |\n",
    "|7        |N         |21.0              |91   |\n",
    "|7        |Y         |24.1              |45   |\n",
    "|8        |N         |21.4              |195  |\n",
    "|8        |Y         |26.0              |135  |"
   ]
  },
  {
   "cell_type": "code",
   "execution_count": 3,
   "metadata": {},
   "outputs": [],
   "source": [
    "#Mean products grouped sold category (1-8) with 0.0 discount and > 0.0 discount \n",
    "# c.execute(\"\"\"SELECT orderid,COUNT(productid),AVG(quantity) AS avg\n",
    "#              FROM orderdetail AS O\n",
    "#              JOIN product AS P\n",
    "#              ON (O.productid = P.id)\n",
    "#              WHERE categoryid = 8 AND DISCOUNT = 0.0\n",
    "#              ;\"\"\")\n",
    "\n",
    "# Assigned the value to a variable\n",
    "# c.execute(\"\"\"SELECT AVG(quantity) \n",
    "#              FROM orderdetail AS O\n",
    "#              JOIN product AS P\n",
    "#              ON (O.productid = P.id)\n",
    "#              WHERE categoryid = 8 AND DISCOUNT = 0.0\n",
    "#              ;\"\"\")\n",
    "# df = pd.DataFrame(c.fetchall())\n",
    "# df.columns = [x[0] for x in c.description]\n",
    "# avg = df.values\n",
    "# print(avg)"
   ]
  },
  {
   "cell_type": "code",
   "execution_count": 4,
   "metadata": {},
   "outputs": [],
   "source": [
    "# products in orders, no discount, count of 1317, all categories,\n",
    "\n",
    "c.execute(\"\"\"SELECT quantity\n",
    "             FROM orderdetail AS O\n",
    "             JOIN product AS P\n",
    "             ON (O.productid = P.id)\n",
    "             WHERE DISCOUNT = 0.0\n",
    "             ;\"\"\")\n",
    "df_no_disc = pd.DataFrame(c.fetchall())\n",
    "#df.columns = [x[0] for x in c.description]\n",
    "# df\n",
    "\n",
    "# no_disc = df.values\n",
    "no_disc = df_no_disc[0].tolist()"
   ]
  },
  {
   "cell_type": "code",
   "execution_count": 5,
   "metadata": {},
   "outputs": [
    {
     "data": {
      "text/html": [
       "<div>\n",
       "<style scoped>\n",
       "    .dataframe tbody tr th:only-of-type {\n",
       "        vertical-align: middle;\n",
       "    }\n",
       "\n",
       "    .dataframe tbody tr th {\n",
       "        vertical-align: top;\n",
       "    }\n",
       "\n",
       "    .dataframe thead th {\n",
       "        text-align: right;\n",
       "    }\n",
       "</style>\n",
       "<table border=\"1\" class=\"dataframe\">\n",
       "  <thead>\n",
       "    <tr style=\"text-align: right;\">\n",
       "      <th></th>\n",
       "      <th>0</th>\n",
       "    </tr>\n",
       "  </thead>\n",
       "  <tbody>\n",
       "    <tr>\n",
       "      <th>count</th>\n",
       "      <td>1317.000000</td>\n",
       "    </tr>\n",
       "    <tr>\n",
       "      <th>mean</th>\n",
       "      <td>21.715262</td>\n",
       "    </tr>\n",
       "    <tr>\n",
       "      <th>std</th>\n",
       "      <td>17.507493</td>\n",
       "    </tr>\n",
       "    <tr>\n",
       "      <th>min</th>\n",
       "      <td>1.000000</td>\n",
       "    </tr>\n",
       "    <tr>\n",
       "      <th>25%</th>\n",
       "      <td>10.000000</td>\n",
       "    </tr>\n",
       "    <tr>\n",
       "      <th>50%</th>\n",
       "      <td>18.000000</td>\n",
       "    </tr>\n",
       "    <tr>\n",
       "      <th>75%</th>\n",
       "      <td>30.000000</td>\n",
       "    </tr>\n",
       "    <tr>\n",
       "      <th>max</th>\n",
       "      <td>130.000000</td>\n",
       "    </tr>\n",
       "  </tbody>\n",
       "</table>\n",
       "</div>"
      ],
      "text/plain": [
       "                 0\n",
       "count  1317.000000\n",
       "mean     21.715262\n",
       "std      17.507493\n",
       "min       1.000000\n",
       "25%      10.000000\n",
       "50%      18.000000\n",
       "75%      30.000000\n",
       "max     130.000000"
      ]
     },
     "execution_count": 5,
     "metadata": {},
     "output_type": "execute_result"
    }
   ],
   "source": [
    "df_no_disc.describe()"
   ]
  },
  {
   "cell_type": "code",
   "execution_count": 6,
   "metadata": {},
   "outputs": [
    {
     "data": {
      "text/html": [
       "<div>\n",
       "<style scoped>\n",
       "    .dataframe tbody tr th:only-of-type {\n",
       "        vertical-align: middle;\n",
       "    }\n",
       "\n",
       "    .dataframe tbody tr th {\n",
       "        vertical-align: top;\n",
       "    }\n",
       "\n",
       "    .dataframe thead th {\n",
       "        text-align: right;\n",
       "    }\n",
       "</style>\n",
       "<table border=\"1\" class=\"dataframe\">\n",
       "  <thead>\n",
       "    <tr style=\"text-align: right;\">\n",
       "      <th></th>\n",
       "      <th>0</th>\n",
       "    </tr>\n",
       "  </thead>\n",
       "  <tbody>\n",
       "    <tr>\n",
       "      <th>0</th>\n",
       "      <td>12</td>\n",
       "    </tr>\n",
       "    <tr>\n",
       "      <th>1</th>\n",
       "      <td>10</td>\n",
       "    </tr>\n",
       "    <tr>\n",
       "      <th>2</th>\n",
       "      <td>5</td>\n",
       "    </tr>\n",
       "    <tr>\n",
       "      <th>3</th>\n",
       "      <td>9</td>\n",
       "    </tr>\n",
       "    <tr>\n",
       "      <th>4</th>\n",
       "      <td>40</td>\n",
       "    </tr>\n",
       "  </tbody>\n",
       "</table>\n",
       "</div>"
      ],
      "text/plain": [
       "    0\n",
       "0  12\n",
       "1  10\n",
       "2   5\n",
       "3   9\n",
       "4  40"
      ]
     },
     "execution_count": 6,
     "metadata": {},
     "output_type": "execute_result"
    }
   ],
   "source": [
    "df_no_disc.head()"
   ]
  },
  {
   "cell_type": "code",
   "execution_count": 7,
   "metadata": {},
   "outputs": [
    {
     "name": "stdout",
     "output_type": "stream",
     "text": [
      "The variance of the product population with NO discount is:  0    306.512328\n",
      "dtype: float64\n"
     ]
    }
   ],
   "source": [
    "no_discount_var = df_no_disc.var()\n",
    "print(\"The variance of the product population with NO discount is: \", no_discount_var)"
   ]
  },
  {
   "cell_type": "code",
   "execution_count": 8,
   "metadata": {},
   "outputs": [],
   "source": [
    "# products in orders, with discount, count of 837, all categories\n",
    "\n",
    "c.execute(\"\"\"SELECT quantity\n",
    "             FROM orderdetail AS O\n",
    "             JOIN product AS P\n",
    "             ON (O.productid = P.id)\n",
    "             WHERE DISCOUNT > 0.0\n",
    "             ;\"\"\")\n",
    "df_disc = pd.DataFrame(c.fetchall())\n",
    "# df.columns = [x[0] for x in c.description]\n",
    "#df\n",
    "\n",
    "# disc = df.values\n",
    "disc = df_disc[0].tolist()"
   ]
  },
  {
   "cell_type": "code",
   "execution_count": 9,
   "metadata": {},
   "outputs": [
    {
     "data": {
      "text/html": [
       "<div>\n",
       "<style scoped>\n",
       "    .dataframe tbody tr th:only-of-type {\n",
       "        vertical-align: middle;\n",
       "    }\n",
       "\n",
       "    .dataframe tbody tr th {\n",
       "        vertical-align: top;\n",
       "    }\n",
       "\n",
       "    .dataframe thead th {\n",
       "        text-align: right;\n",
       "    }\n",
       "</style>\n",
       "<table border=\"1\" class=\"dataframe\">\n",
       "  <thead>\n",
       "    <tr style=\"text-align: right;\">\n",
       "      <th></th>\n",
       "      <th>0</th>\n",
       "    </tr>\n",
       "  </thead>\n",
       "  <tbody>\n",
       "    <tr>\n",
       "      <th>count</th>\n",
       "      <td>838.000000</td>\n",
       "    </tr>\n",
       "    <tr>\n",
       "      <th>mean</th>\n",
       "      <td>27.109785</td>\n",
       "    </tr>\n",
       "    <tr>\n",
       "      <th>std</th>\n",
       "      <td>20.771439</td>\n",
       "    </tr>\n",
       "    <tr>\n",
       "      <th>min</th>\n",
       "      <td>1.000000</td>\n",
       "    </tr>\n",
       "    <tr>\n",
       "      <th>25%</th>\n",
       "      <td>12.000000</td>\n",
       "    </tr>\n",
       "    <tr>\n",
       "      <th>50%</th>\n",
       "      <td>20.000000</td>\n",
       "    </tr>\n",
       "    <tr>\n",
       "      <th>75%</th>\n",
       "      <td>36.000000</td>\n",
       "    </tr>\n",
       "    <tr>\n",
       "      <th>max</th>\n",
       "      <td>130.000000</td>\n",
       "    </tr>\n",
       "  </tbody>\n",
       "</table>\n",
       "</div>"
      ],
      "text/plain": [
       "                0\n",
       "count  838.000000\n",
       "mean    27.109785\n",
       "std     20.771439\n",
       "min      1.000000\n",
       "25%     12.000000\n",
       "50%     20.000000\n",
       "75%     36.000000\n",
       "max    130.000000"
      ]
     },
     "execution_count": 9,
     "metadata": {},
     "output_type": "execute_result"
    }
   ],
   "source": [
    "df_disc.describe()"
   ]
  },
  {
   "cell_type": "code",
   "execution_count": 10,
   "metadata": {},
   "outputs": [
    {
     "name": "stdout",
     "output_type": "stream",
     "text": [
      "The variance of the product population with a discount is:  0    431.452688\n",
      "dtype: float64\n"
     ]
    }
   ],
   "source": [
    "discount_var = df_disc.var()\n",
    "print(\"The variance of the product population with a discount is: \", discount_var)"
   ]
  },
  {
   "cell_type": "code",
   "execution_count": 11,
   "metadata": {},
   "outputs": [],
   "source": [
    "# code from 2 sample t-test lab\n",
    "import numpy as np\n",
    "from scipy import stats\n",
    "import seaborn as sns\n",
    "import matplotlib.pyplot as plt\n",
    "\n",
    "sns.set_style('whitegrid')\n",
    "\n",
    "%config InlineBackend.figure_format = 'retina'\n",
    "%matplotlib inline"
   ]
  },
  {
   "cell_type": "code",
   "execution_count": 12,
   "metadata": {},
   "outputs": [
    {
     "name": "stderr",
     "output_type": "stream",
     "text": [
      "/Users/Annika/anaconda3/envs/learn-env/lib/python3.6/site-packages/scipy/stats/stats.py:1713: FutureWarning: Using a non-tuple sequence for multidimensional indexing is deprecated; use `arr[tuple(seq)]` instead of `arr[seq]`. In the future this will be interpreted as an array index, `arr[np.array(seq)]`, which will result either in an error or a different result.\n",
      "  return np.add.reduce(sorted[indexer] * weights, axis=axis) / sumval\n"
     ]
    },
    {
     "data": {
      "text/plain": [
       "<matplotlib.axes._subplots.AxesSubplot at 0x1a1d27a630>"
      ]
     },
     "execution_count": 12,
     "metadata": {},
     "output_type": "execute_result"
    },
    {
     "data": {
      "image/png": "[encoded data removed]",
      "text/plain": [
       "<Figure size 864x720 with 1 Axes>"
      ]
     },
     "metadata": {
      "image/png": {
       "height": 580,
       "width": 714
      }
     },
     "output_type": "display_data"
    }
   ],
   "source": [
    "sns.set(color_codes=True)\n",
    "sns.set(rc={'figure.figsize':(12,10)})\n",
    "sns.distplot(no_disc,kde=False)\n",
    "sns.distplot(disc,kde=False)"
   ]
  },
  {
   "cell_type": "code",
   "execution_count": 13,
   "metadata": {},
   "outputs": [],
   "source": [
    "# pd.DataFrame(no_disc).hist(bins='auto',figsize=(9,9),color='red')\n",
    "# pd.DataFrame(disc).hist(bins='auto',figsize=(9,9),color='blue')\n",
    "# df_no_disc.hist(bins=30,figsize  = [10,10],color='green')\n",
    "# plt.title(\"no discount\");"
   ]
  },
  {
   "cell_type": "code",
   "execution_count": 14,
   "metadata": {},
   "outputs": [],
   "source": [
    "# df_disc.hist(bins=30,figsize  = [10,10],color='blue')\n",
    "# plt.title(\"discount\");"
   ]
  },
  {
   "cell_type": "code",
   "execution_count": 15,
   "metadata": {},
   "outputs": [],
   "source": [
    "#print(disc.mean() - no_disc.mean()) #5.3945"
   ]
  },
  {
   "cell_type": "code",
   "execution_count": 16,
   "metadata": {},
   "outputs": [
    {
     "data": {
      "text/plain": [
       "Ttest_indResult(statistic=6.239069142123973, pvalue=5.65641429030433e-10)"
      ]
     },
     "execution_count": 16,
     "metadata": {},
     "output_type": "execute_result"
    }
   ],
   "source": [
    "# Null Hypothesis: There is no relationship between A and B, there is no difference between\n",
    "# the two population means.\n",
    "# Alternative Hypothesis: There is a some relationship between A and B, there is a difference in the \n",
    "# average order size based on a discount (between 1-20%).\n",
    "# The p-value is less than the signficance level of 0.05, so we reject the null hypothesis that there is no \n",
    "# difference between the 2 population.\n",
    "#\n",
    "# This is Student's test\n",
    "# t statistic and pvalue: used code from \"2 sample ttest\" lab in section 20\n",
    "stats.ttest_ind(disc, no_disc,equal_var=False)\n",
    "# when variances are equal, the pvalue is 1.4e-10\n",
    "# when variances are not equal, the pvalue is 5.5e-10"
   ]
  },
  {
   "cell_type": "code",
   "execution_count": 17,
   "metadata": {},
   "outputs": [
    {
     "name": "stdout",
     "output_type": "stream",
     "text": [
      "Welch's t statistic:  0    6.239069\n",
      "dtype: float64\n"
     ]
    }
   ],
   "source": [
    "# The variances are not equal, so will use Welch's test too.\n",
    "\n",
    "# Welch's t-test\n",
    "\n",
    "def welch_t(a, b):\n",
    "\n",
    "    x1 = a.mean()\n",
    "    x2 = b.mean()\n",
    "    num = x1 - x2\n",
    "    \n",
    "    s_welch = np.sqrt((a.var(ddof=1)/len(a)) + (b.var(ddof=1)/len(b)))\n",
    "    t = num/s_welch\n",
    "    \n",
    "    \n",
    "    return abs(t)\n",
    "\n",
    "t = welch_t(df_disc,df_no_disc)\n",
    "print(\"Welch's t statistic: \",t)"
   ]
  },
  {
   "cell_type": "code",
   "execution_count": 18,
   "metadata": {},
   "outputs": [
    {
     "name": "stdout",
     "output_type": "stream",
     "text": [
      "Welch's degrees of freedom:  0    1674.0\n",
      "dtype: float64\n"
     ]
    }
   ],
   "source": [
    "# Welch's degrees of freedom\n",
    "def welch_df(a, b):\n",
    "\n",
    "    s1 = a.var()\n",
    "    s2 = b.var()\n",
    "    n1 = len(a)\n",
    "    n2 = len(b)\n",
    "    v1 = n1-1\n",
    "    v2 = n2-1\n",
    "    \n",
    "    num = (s1/n1 + s2/n2)**2\n",
    "    denom = (s1/n1)**2/v1 + (s2/n2)**2/v2\n",
    "    \n",
    "    welch_df = num/denom\n",
    "    \n",
    "    return welch_df\n",
    "\n",
    "df = welch_df(df_disc, df_disc)\n",
    "print(\"Welch's degrees of freedom: \", df)"
   ]
  },
  {
   "cell_type": "code",
   "execution_count": 19,
   "metadata": {},
   "outputs": [
    {
     "name": "stdout",
     "output_type": "stream",
     "text": [
      "The p-value from Welch's test is:  [2.78175705e-10]\n"
     ]
    }
   ],
   "source": [
    "# Calculate p-value from Welch's test\n",
    "import scipy.stats as stats\n",
    "\n",
    "\n",
    "p = 1 - stats.t.cdf(t, df)\n",
    "\n",
    "print(\"The p-value from Welch's test is: \", p)"
   ]
  },
  {
   "cell_type": "code",
   "execution_count": 20,
   "metadata": {},
   "outputs": [
    {
     "name": "stdout",
     "output_type": "stream",
     "text": [
      "The p-value from Student's t-test is 5.6564e-10\n",
      "The p-value from Welch's t-test is   2.7817e-10\n"
     ]
    }
   ],
   "source": [
    "# Difference between the p-values from Student's and Welch's\n",
    "print(\"The p-value from Student's t-test is 5.6564e-10\")\n",
    "print(\"The p-value from Welch's t-test is   2.7817e-10\")"
   ]
  },
  {
   "cell_type": "markdown",
   "metadata": {},
   "source": [
    "### CLT to get sample"
   ]
  },
  {
   "cell_type": "code",
   "execution_count": 21,
   "metadata": {},
   "outputs": [],
   "source": [
    "def get_sample(data, n):\n",
    "    sample = []\n",
    "    \n",
    "    for i in range(0,n):\n",
    "        x = np.random.choice(data)\n",
    "        sample.append(x)\n",
    "    return sample"
   ]
  },
  {
   "cell_type": "code",
   "execution_count": 22,
   "metadata": {},
   "outputs": [],
   "source": [
    "def get_sample_mean(sample):\n",
    "    return sum(sample) / len(sample)"
   ]
  },
  {
   "cell_type": "code",
   "execution_count": 23,
   "metadata": {},
   "outputs": [],
   "source": [
    "def create_sample_distribution(data, dist_size=100, n=30):\n",
    "    sample = []\n",
    "    \n",
    "    for i in range(0,dist_size):\n",
    "    #while len(sample) != dist_size:\n",
    "        s = get_sample(data,n)\n",
    "        s_mean = get_sample_mean(s)\n",
    "        sample.append(s_mean)\n",
    "    return sample\n",
    "        \n",
    "disc_sample_dist = create_sample_distribution(disc)\n",
    "no_disc_sample_dist = create_sample_distribution(no_disc)"
   ]
  },
  {
   "cell_type": "code",
   "execution_count": 24,
   "metadata": {},
   "outputs": [
    {
     "data": {
      "text/html": [
       "<div>\n",
       "<style scoped>\n",
       "    .dataframe tbody tr th:only-of-type {\n",
       "        vertical-align: middle;\n",
       "    }\n",
       "\n",
       "    .dataframe tbody tr th {\n",
       "        vertical-align: top;\n",
       "    }\n",
       "\n",
       "    .dataframe thead th {\n",
       "        text-align: right;\n",
       "    }\n",
       "</style>\n",
       "<table border=\"1\" class=\"dataframe\">\n",
       "  <thead>\n",
       "    <tr style=\"text-align: right;\">\n",
       "      <th></th>\n",
       "      <th>0</th>\n",
       "    </tr>\n",
       "  </thead>\n",
       "  <tbody>\n",
       "    <tr>\n",
       "      <th>0</th>\n",
       "      <td>23.166667</td>\n",
       "    </tr>\n",
       "    <tr>\n",
       "      <th>1</th>\n",
       "      <td>24.900000</td>\n",
       "    </tr>\n",
       "    <tr>\n",
       "      <th>2</th>\n",
       "      <td>17.500000</td>\n",
       "    </tr>\n",
       "    <tr>\n",
       "      <th>3</th>\n",
       "      <td>19.500000</td>\n",
       "    </tr>\n",
       "    <tr>\n",
       "      <th>4</th>\n",
       "      <td>24.500000</td>\n",
       "    </tr>\n",
       "  </tbody>\n",
       "</table>\n",
       "</div>"
      ],
      "text/plain": [
       "           0\n",
       "0  23.166667\n",
       "1  24.900000\n",
       "2  17.500000\n",
       "3  19.500000\n",
       "4  24.500000"
      ]
     },
     "execution_count": 24,
     "metadata": {},
     "output_type": "execute_result"
    }
   ],
   "source": [
    "df_disc_sample_dist = pd.DataFrame({'0':disc_sample_dist})\n",
    "df_no_disc_sample_dist = pd.DataFrame({'0':no_disc_sample_dist})\n",
    "df_no_disc_sample_dist.head()"
   ]
  },
  {
   "cell_type": "code",
   "execution_count": 25,
   "metadata": {},
   "outputs": [
    {
     "name": "stdout",
     "output_type": "stream",
     "text": [
      "Welch's p-value with a sample distribution, CLT:  0    10.090583\n",
      "dtype: float64 0    187.24562\n",
      "dtype: float64 [0.]\n"
     ]
    }
   ],
   "source": [
    "#Rerun Welch's with sample means from 2 populations:\n",
    "t_sample = welch_t(df_disc_sample_dist,df_no_disc_sample_dist)\n",
    "df_sample = welch_df(df_disc_sample_dist,df_no_disc_sample_dist)\n",
    "p_sample = 1 - stats.t.cdf(t_sample, df_sample)\n",
    "print(\"Welch's with a sample distribution: \", t_sample,df_sample,p_sample)"
   ]
  },
  {
   "cell_type": "code",
   "execution_count": 47,
   "metadata": {},
   "outputs": [
    {
     "data": {
      "text/plain": [
       "Ttest_indResult(statistic=array([10.09058258]), pvalue=array([2.146824e-19]))"
      ]
     },
     "execution_count": 47,
     "metadata": {},
     "output_type": "execute_result"
    }
   ],
   "source": [
    "#Rerun Student's t-test with sample means\n",
    "stats.ttest_ind(df_disc_sample_dist, df_no_disc_sample_dist,equal_var=False)"
   ]
  },
  {
   "cell_type": "code",
   "execution_count": 26,
   "metadata": {},
   "outputs": [],
   "source": [
    "# from numpy import std, mean,sqrt, variance\n",
    "\n",
    "# def Cohen_d(group1, group2):\n",
    "#     dif = mean(group1) - mean(group2)\n",
    "#     n1, n2 = len(group1), len(group2)\n",
    "#     var1 = var(group1)\n",
    "#     var2 = var(group2)\n",
    "\n",
    "#     pooled_var = (n1 * var1 + n2 * var2) / (n1 + n2)\n",
    "    \n",
    "#     d = diff / np.sqrt(pooled_var)\n",
    "    \n",
    "#     return d"
   ]
  },
  {
   "cell_type": "code",
   "execution_count": 27,
   "metadata": {},
   "outputs": [],
   "source": [
    "from numpy import std,mean,sqrt\n",
    "\n",
    "def Cohen_d(x,y):\n",
    "    nx = len(x)\n",
    "    ny = len(y)\n",
    "    dof = nx + ny -2\n",
    "    pooled_var = ((nx-1)*std(x,ddof=1) **2 + (ny-1)*std(y,ddof=1) ** 2) / dof\n",
    "    return (mean(x) - mean(y)) / sqrt(pooled_var)"
   ]
  },
  {
   "cell_type": "code",
   "execution_count": 28,
   "metadata": {},
   "outputs": [
    {
     "name": "stdout",
     "output_type": "stream",
     "text": [
      "The measure of the effect:  1.427\n"
     ]
    }
   ],
   "source": [
    "# EFFECT SIZE: Effect size measures the magnitude of the difference between the groups being tested. Cohen's d is \n",
    "# typically the the metric used.\n",
    "\n",
    "effect = Cohen_d(disc_sample_dist,no_disc_sample_dist)\n",
    "print(\"The measure of the effect: \",round(effect,4))"
   ]
  },
  {
   "cell_type": "code",
   "execution_count": 29,
   "metadata": {},
   "outputs": [
    {
     "name": "stdout",
     "output_type": "stream",
     "text": [
      "power:  1.0\n"
     ]
    }
   ],
   "source": [
    "# POWER: Power measures an experiment's ability to detect a difference when one exists or the probability of \n",
    "# rejecting the null given that it is indeed false.\n",
    "\n",
    "#statistical power lecture, section 21\n",
    "\n",
    "from statsmodels.stats.power import TTestIndPower, TTestPower\n",
    "power_analysis = TTestIndPower()\n",
    "\n",
    "p = power_analysis.solve_power(effect_size=effect, alpha=0.05, nobs1=30)\n",
    "print('power: ', round(p))"
   ]
  },
  {
   "cell_type": "markdown",
   "metadata": {},
   "source": [
    "### ANOVA Evaluation"
   ]
  },
  {
   "cell_type": "code",
   "execution_count": 30,
   "metadata": {},
   "outputs": [
    {
     "data": {
      "text/html": [
       "<div>\n",
       "<style scoped>\n",
       "    .dataframe tbody tr th:only-of-type {\n",
       "        vertical-align: middle;\n",
       "    }\n",
       "\n",
       "    .dataframe tbody tr th {\n",
       "        vertical-align: top;\n",
       "    }\n",
       "\n",
       "    .dataframe thead th {\n",
       "        text-align: right;\n",
       "    }\n",
       "</style>\n",
       "<table border=\"1\" class=\"dataframe\">\n",
       "  <thead>\n",
       "    <tr style=\"text-align: right;\">\n",
       "      <th></th>\n",
       "      <th>Quantity</th>\n",
       "      <th>Discount</th>\n",
       "    </tr>\n",
       "  </thead>\n",
       "  <tbody>\n",
       "    <tr>\n",
       "      <th>0</th>\n",
       "      <td>12</td>\n",
       "      <td>0.00</td>\n",
       "    </tr>\n",
       "    <tr>\n",
       "      <th>1</th>\n",
       "      <td>10</td>\n",
       "      <td>0.00</td>\n",
       "    </tr>\n",
       "    <tr>\n",
       "      <th>2</th>\n",
       "      <td>5</td>\n",
       "      <td>0.00</td>\n",
       "    </tr>\n",
       "    <tr>\n",
       "      <th>3</th>\n",
       "      <td>9</td>\n",
       "      <td>0.00</td>\n",
       "    </tr>\n",
       "    <tr>\n",
       "      <th>4</th>\n",
       "      <td>40</td>\n",
       "      <td>0.00</td>\n",
       "    </tr>\n",
       "    <tr>\n",
       "      <th>5</th>\n",
       "      <td>10</td>\n",
       "      <td>0.00</td>\n",
       "    </tr>\n",
       "    <tr>\n",
       "      <th>6</th>\n",
       "      <td>35</td>\n",
       "      <td>0.15</td>\n",
       "    </tr>\n",
       "    <tr>\n",
       "      <th>7</th>\n",
       "      <td>15</td>\n",
       "      <td>0.15</td>\n",
       "    </tr>\n",
       "    <tr>\n",
       "      <th>8</th>\n",
       "      <td>6</td>\n",
       "      <td>0.05</td>\n",
       "    </tr>\n",
       "    <tr>\n",
       "      <th>9</th>\n",
       "      <td>15</td>\n",
       "      <td>0.05</td>\n",
       "    </tr>\n",
       "  </tbody>\n",
       "</table>\n",
       "</div>"
      ],
      "text/plain": [
       "   Quantity  Discount\n",
       "0        12      0.00\n",
       "1        10      0.00\n",
       "2         5      0.00\n",
       "3         9      0.00\n",
       "4        40      0.00\n",
       "5        10      0.00\n",
       "6        35      0.15\n",
       "7        15      0.15\n",
       "8         6      0.05\n",
       "9        15      0.05"
      ]
     },
     "execution_count": 30,
     "metadata": {},
     "output_type": "execute_result"
    }
   ],
   "source": [
    "c.execute(\"\"\"SELECT quantity, discount\n",
    "             FROM orderdetail AS O\n",
    "             JOIN product AS P\n",
    "             ON (O.productid = P.id)\n",
    "             ;\"\"\")\n",
    "anova = pd.DataFrame(c.fetchall())\n",
    "anova.columns = [x[0] for x in c.description]\n",
    "anova.head(10)"
   ]
  },
  {
   "cell_type": "code",
   "execution_count": 31,
   "metadata": {},
   "outputs": [
    {
     "data": {
      "text/plain": [
       "0.00    1317\n",
       "0.05     185\n",
       "0.10     173\n",
       "0.20     161\n",
       "0.15     157\n",
       "0.25     154\n",
       "0.03       3\n",
       "0.02       2\n",
       "0.01       1\n",
       "0.04       1\n",
       "0.06       1\n",
       "Name: Discount, dtype: int64"
      ]
     },
     "execution_count": 31,
     "metadata": {},
     "output_type": "execute_result"
    }
   ],
   "source": [
    "anova.Discount.value_counts()"
   ]
  },
  {
   "cell_type": "code",
   "execution_count": 32,
   "metadata": {},
   "outputs": [],
   "source": [
    "#anova['zero'].apply(lambda x: \"1\" if x == '0.00' else 0 for x in anova['Discount']]\n",
    "# anova['onefive'] = [\"1\" if x  else 0 for x in anova['Discount']]\n",
    "\n",
    "#this created categorial variables, but too many\n",
    "# cat_disc = anova['Discount'].astype('category')\n",
    "# cat_disc.head(10)\n",
    "\n",
    "# anova['Zero'] = 0\n",
    "# anova.head(10)   \n",
    "# anova.info()\n",
    "# for row in anova:\n",
    "#     if anova['Discount'] == '0.00':\n",
    "#         anova['Zero'] = 1\n",
    "#     else:\n",
    "#         anova['Zero'] = 0"
   ]
  },
  {
   "cell_type": "code",
   "execution_count": 33,
   "metadata": {},
   "outputs": [
    {
     "data": {
      "text/html": [
       "<div>\n",
       "<style scoped>\n",
       "    .dataframe tbody tr th:only-of-type {\n",
       "        vertical-align: middle;\n",
       "    }\n",
       "\n",
       "    .dataframe tbody tr th {\n",
       "        vertical-align: top;\n",
       "    }\n",
       "\n",
       "    .dataframe thead th {\n",
       "        text-align: right;\n",
       "    }\n",
       "</style>\n",
       "<table border=\"1\" class=\"dataframe\">\n",
       "  <thead>\n",
       "    <tr style=\"text-align: right;\">\n",
       "      <th></th>\n",
       "      <th>Quantity</th>\n",
       "      <th>Discount</th>\n",
       "      <th>Zero</th>\n",
       "    </tr>\n",
       "  </thead>\n",
       "  <tbody>\n",
       "    <tr>\n",
       "      <th>0</th>\n",
       "      <td>12</td>\n",
       "      <td>0.00</td>\n",
       "      <td>1</td>\n",
       "    </tr>\n",
       "    <tr>\n",
       "      <th>1</th>\n",
       "      <td>10</td>\n",
       "      <td>0.00</td>\n",
       "      <td>1</td>\n",
       "    </tr>\n",
       "    <tr>\n",
       "      <th>2</th>\n",
       "      <td>5</td>\n",
       "      <td>0.00</td>\n",
       "      <td>1</td>\n",
       "    </tr>\n",
       "    <tr>\n",
       "      <th>3</th>\n",
       "      <td>9</td>\n",
       "      <td>0.00</td>\n",
       "      <td>1</td>\n",
       "    </tr>\n",
       "    <tr>\n",
       "      <th>4</th>\n",
       "      <td>40</td>\n",
       "      <td>0.00</td>\n",
       "      <td>1</td>\n",
       "    </tr>\n",
       "    <tr>\n",
       "      <th>5</th>\n",
       "      <td>10</td>\n",
       "      <td>0.00</td>\n",
       "      <td>1</td>\n",
       "    </tr>\n",
       "    <tr>\n",
       "      <th>6</th>\n",
       "      <td>35</td>\n",
       "      <td>0.15</td>\n",
       "      <td>0</td>\n",
       "    </tr>\n",
       "    <tr>\n",
       "      <th>7</th>\n",
       "      <td>15</td>\n",
       "      <td>0.15</td>\n",
       "      <td>0</td>\n",
       "    </tr>\n",
       "    <tr>\n",
       "      <th>8</th>\n",
       "      <td>6</td>\n",
       "      <td>0.05</td>\n",
       "      <td>0</td>\n",
       "    </tr>\n",
       "    <tr>\n",
       "      <th>9</th>\n",
       "      <td>15</td>\n",
       "      <td>0.05</td>\n",
       "      <td>0</td>\n",
       "    </tr>\n",
       "  </tbody>\n",
       "</table>\n",
       "</div>"
      ],
      "text/plain": [
       "   Quantity  Discount  Zero\n",
       "0        12      0.00     1\n",
       "1        10      0.00     1\n",
       "2         5      0.00     1\n",
       "3         9      0.00     1\n",
       "4        40      0.00     1\n",
       "5        10      0.00     1\n",
       "6        35      0.15     0\n",
       "7        15      0.15     0\n",
       "8         6      0.05     0\n",
       "9        15      0.05     0"
      ]
     },
     "execution_count": 33,
     "metadata": {},
     "output_type": "execute_result"
    }
   ],
   "source": [
    "def transform_zero(df):\n",
    "    if df['Discount'] == 0.00:\n",
    "        return 1\n",
    "    else:\n",
    "        return 0\n",
    "    \n",
    "anova['Zero'] = anova.apply(transform_zero, axis=1)\n",
    "anova.head(10)"
   ]
  },
  {
   "cell_type": "code",
   "execution_count": 34,
   "metadata": {},
   "outputs": [],
   "source": [
    "def transform_five(df):\n",
    "    if df['Discount'] > 0.00 and df['Discount'] <= 0.05:\n",
    "        return 1\n",
    "    else:\n",
    "        return 0\n",
    "    \n",
    "def transform_ten(df):\n",
    "    if df['Discount'] > 0.06 and df['Discount'] <= 0.10:\n",
    "        return 1\n",
    "    else:\n",
    "        return 0  \n",
    "    \n",
    "def transform_fifteen(df):\n",
    "    if df['Discount'] > 0.10 and df['Discount'] <= 0.15:\n",
    "        return 1\n",
    "    else:\n",
    "        return 0    \n",
    "    \n",
    "def transform_twenty(df):\n",
    "    if df['Discount'] > 0.15 and df['Discount'] <= 0.20:\n",
    "        return 1\n",
    "    else:\n",
    "        return 0\n",
    "    \n",
    "def transform_twentyfive(df):\n",
    "    if df['Discount'] > 0.20:\n",
    "        return 1\n",
    "    else:\n",
    "        return 0    "
   ]
  },
  {
   "cell_type": "code",
   "execution_count": 35,
   "metadata": {},
   "outputs": [],
   "source": [
    "anova['OneFive'] = anova.apply(transform_five, axis=1)\n",
    "anova['SixTen'] = anova.apply(transform_ten, axis=1)\n",
    "anova['Fifteen'] = anova.apply(transform_fifteen, axis=1)\n",
    "anova['Twenty'] = anova.apply(transform_twenty, axis=1)\n",
    "anova['Twentyfive'] = anova.apply(transform_twentyfive, axis=1)"
   ]
  },
  {
   "cell_type": "code",
   "execution_count": 36,
   "metadata": {},
   "outputs": [
    {
     "data": {
      "text/html": [
       "<div>\n",
       "<style scoped>\n",
       "    .dataframe tbody tr th:only-of-type {\n",
       "        vertical-align: middle;\n",
       "    }\n",
       "\n",
       "    .dataframe tbody tr th {\n",
       "        vertical-align: top;\n",
       "    }\n",
       "\n",
       "    .dataframe thead th {\n",
       "        text-align: right;\n",
       "    }\n",
       "</style>\n",
       "<table border=\"1\" class=\"dataframe\">\n",
       "  <thead>\n",
       "    <tr style=\"text-align: right;\">\n",
       "      <th></th>\n",
       "      <th>Quantity</th>\n",
       "      <th>Discount</th>\n",
       "      <th>Zero</th>\n",
       "      <th>OneFive</th>\n",
       "      <th>SixTen</th>\n",
       "      <th>Fifteen</th>\n",
       "      <th>Twenty</th>\n",
       "      <th>Twentyfive</th>\n",
       "    </tr>\n",
       "  </thead>\n",
       "  <tbody>\n",
       "    <tr>\n",
       "      <th>0</th>\n",
       "      <td>12</td>\n",
       "      <td>0.00</td>\n",
       "      <td>1</td>\n",
       "      <td>0</td>\n",
       "      <td>0</td>\n",
       "      <td>0</td>\n",
       "      <td>0</td>\n",
       "      <td>0</td>\n",
       "    </tr>\n",
       "    <tr>\n",
       "      <th>1</th>\n",
       "      <td>10</td>\n",
       "      <td>0.00</td>\n",
       "      <td>1</td>\n",
       "      <td>0</td>\n",
       "      <td>0</td>\n",
       "      <td>0</td>\n",
       "      <td>0</td>\n",
       "      <td>0</td>\n",
       "    </tr>\n",
       "    <tr>\n",
       "      <th>2</th>\n",
       "      <td>5</td>\n",
       "      <td>0.00</td>\n",
       "      <td>1</td>\n",
       "      <td>0</td>\n",
       "      <td>0</td>\n",
       "      <td>0</td>\n",
       "      <td>0</td>\n",
       "      <td>0</td>\n",
       "    </tr>\n",
       "    <tr>\n",
       "      <th>3</th>\n",
       "      <td>9</td>\n",
       "      <td>0.00</td>\n",
       "      <td>1</td>\n",
       "      <td>0</td>\n",
       "      <td>0</td>\n",
       "      <td>0</td>\n",
       "      <td>0</td>\n",
       "      <td>0</td>\n",
       "    </tr>\n",
       "    <tr>\n",
       "      <th>4</th>\n",
       "      <td>40</td>\n",
       "      <td>0.00</td>\n",
       "      <td>1</td>\n",
       "      <td>0</td>\n",
       "      <td>0</td>\n",
       "      <td>0</td>\n",
       "      <td>0</td>\n",
       "      <td>0</td>\n",
       "    </tr>\n",
       "    <tr>\n",
       "      <th>5</th>\n",
       "      <td>10</td>\n",
       "      <td>0.00</td>\n",
       "      <td>1</td>\n",
       "      <td>0</td>\n",
       "      <td>0</td>\n",
       "      <td>0</td>\n",
       "      <td>0</td>\n",
       "      <td>0</td>\n",
       "    </tr>\n",
       "    <tr>\n",
       "      <th>6</th>\n",
       "      <td>35</td>\n",
       "      <td>0.15</td>\n",
       "      <td>0</td>\n",
       "      <td>0</td>\n",
       "      <td>0</td>\n",
       "      <td>1</td>\n",
       "      <td>0</td>\n",
       "      <td>0</td>\n",
       "    </tr>\n",
       "    <tr>\n",
       "      <th>7</th>\n",
       "      <td>15</td>\n",
       "      <td>0.15</td>\n",
       "      <td>0</td>\n",
       "      <td>0</td>\n",
       "      <td>0</td>\n",
       "      <td>1</td>\n",
       "      <td>0</td>\n",
       "      <td>0</td>\n",
       "    </tr>\n",
       "    <tr>\n",
       "      <th>8</th>\n",
       "      <td>6</td>\n",
       "      <td>0.05</td>\n",
       "      <td>0</td>\n",
       "      <td>1</td>\n",
       "      <td>0</td>\n",
       "      <td>0</td>\n",
       "      <td>0</td>\n",
       "      <td>0</td>\n",
       "    </tr>\n",
       "    <tr>\n",
       "      <th>9</th>\n",
       "      <td>15</td>\n",
       "      <td>0.05</td>\n",
       "      <td>0</td>\n",
       "      <td>1</td>\n",
       "      <td>0</td>\n",
       "      <td>0</td>\n",
       "      <td>0</td>\n",
       "      <td>0</td>\n",
       "    </tr>\n",
       "  </tbody>\n",
       "</table>\n",
       "</div>"
      ],
      "text/plain": [
       "   Quantity  Discount  Zero  OneFive  SixTen  Fifteen  Twenty  Twentyfive\n",
       "0        12      0.00     1        0       0        0       0           0\n",
       "1        10      0.00     1        0       0        0       0           0\n",
       "2         5      0.00     1        0       0        0       0           0\n",
       "3         9      0.00     1        0       0        0       0           0\n",
       "4        40      0.00     1        0       0        0       0           0\n",
       "5        10      0.00     1        0       0        0       0           0\n",
       "6        35      0.15     0        0       0        1       0           0\n",
       "7        15      0.15     0        0       0        1       0           0\n",
       "8         6      0.05     0        1       0        0       0           0\n",
       "9        15      0.05     0        1       0        0       0           0"
      ]
     },
     "execution_count": 36,
     "metadata": {},
     "output_type": "execute_result"
    }
   ],
   "source": [
    "anova.head(10)"
   ]
  },
  {
   "cell_type": "code",
   "execution_count": 37,
   "metadata": {},
   "outputs": [],
   "source": [
    "import pandas as pd\n",
    "import statsmodels.api as sm\n",
    "from statsmodels.formula.api import ols"
   ]
  },
  {
   "cell_type": "code",
   "execution_count": 38,
   "metadata": {},
   "outputs": [
    {
     "name": "stdout",
     "output_type": "stream",
     "text": [
      "                      sum_sq      df         F    PR(>F)\n",
      "C(Zero)           388.396644     1.0  1.093693  0.295772\n",
      "C(OneFive)        624.355030     1.0  1.758133  0.184999\n",
      "C(SixTen)         536.854694     1.0  1.511739  0.219009\n",
      "C(Fifteen)        691.613481     1.0  1.947527  0.162998\n",
      "C(Twenty)         622.377157     1.0  1.752564  0.185696\n",
      "C(Twentyfive)     684.108965     1.0  1.926395  0.165297\n",
      "Residual       762806.066713  2148.0       NaN       NaN\n"
     ]
    }
   ],
   "source": [
    "formula = 'Quantity ~ C(Zero) + C(OneFive) + C(SixTen) + C(Fifteen) + C(Twenty) + C(Twentyfive)'\n",
    "lm = ols(formula, anova).fit()\n",
    "table = sm.stats.anova_lm(lm, typ=2)\n",
    "print(table)"
   ]
  },
  {
   "cell_type": "markdown",
   "metadata": {},
   "source": [
    "### P-values from ANOVA\n",
    "The resulting p-values from the ANOVA test are greater than the significance level (typically alpha = 0.05), so we fail to reject the null hypothesis (which is that there is no difference between the quantity of goods sold with a discount and without a discount.)"
   ]
  },
  {
   "cell_type": "code",
   "execution_count": 39,
   "metadata": {},
   "outputs": [
    {
     "data": {
      "text/html": [
       "<div>\n",
       "<style scoped>\n",
       "    .dataframe tbody tr th:only-of-type {\n",
       "        vertical-align: middle;\n",
       "    }\n",
       "\n",
       "    .dataframe tbody tr th {\n",
       "        vertical-align: top;\n",
       "    }\n",
       "\n",
       "    .dataframe thead th {\n",
       "        text-align: right;\n",
       "    }\n",
       "</style>\n",
       "<table border=\"1\" class=\"dataframe\">\n",
       "  <thead>\n",
       "    <tr style=\"text-align: right;\">\n",
       "      <th></th>\n",
       "      <th>Quantity</th>\n",
       "      <th>Discount</th>\n",
       "      <th>Zero</th>\n",
       "      <th>OneFive</th>\n",
       "      <th>SixTen</th>\n",
       "      <th>Fifteen</th>\n",
       "      <th>Twenty</th>\n",
       "      <th>Twentyfive</th>\n",
       "    </tr>\n",
       "  </thead>\n",
       "  <tbody>\n",
       "    <tr>\n",
       "      <th>0</th>\n",
       "      <td>12</td>\n",
       "      <td>0.0</td>\n",
       "      <td>1</td>\n",
       "      <td>0</td>\n",
       "      <td>0</td>\n",
       "      <td>0</td>\n",
       "      <td>0</td>\n",
       "      <td>0</td>\n",
       "    </tr>\n",
       "    <tr>\n",
       "      <th>1</th>\n",
       "      <td>10</td>\n",
       "      <td>0.0</td>\n",
       "      <td>1</td>\n",
       "      <td>0</td>\n",
       "      <td>0</td>\n",
       "      <td>0</td>\n",
       "      <td>0</td>\n",
       "      <td>0</td>\n",
       "    </tr>\n",
       "    <tr>\n",
       "      <th>2</th>\n",
       "      <td>5</td>\n",
       "      <td>0.0</td>\n",
       "      <td>1</td>\n",
       "      <td>0</td>\n",
       "      <td>0</td>\n",
       "      <td>0</td>\n",
       "      <td>0</td>\n",
       "      <td>0</td>\n",
       "    </tr>\n",
       "    <tr>\n",
       "      <th>3</th>\n",
       "      <td>9</td>\n",
       "      <td>0.0</td>\n",
       "      <td>1</td>\n",
       "      <td>0</td>\n",
       "      <td>0</td>\n",
       "      <td>0</td>\n",
       "      <td>0</td>\n",
       "      <td>0</td>\n",
       "    </tr>\n",
       "    <tr>\n",
       "      <th>4</th>\n",
       "      <td>40</td>\n",
       "      <td>0.0</td>\n",
       "      <td>1</td>\n",
       "      <td>0</td>\n",
       "      <td>0</td>\n",
       "      <td>0</td>\n",
       "      <td>0</td>\n",
       "      <td>0</td>\n",
       "    </tr>\n",
       "  </tbody>\n",
       "</table>\n",
       "</div>"
      ],
      "text/plain": [
       "   Quantity  Discount  Zero  OneFive  SixTen  Fifteen  Twenty  Twentyfive\n",
       "0        12       0.0     1        0       0        0       0           0\n",
       "1        10       0.0     1        0       0        0       0           0\n",
       "2         5       0.0     1        0       0        0       0           0\n",
       "3         9       0.0     1        0       0        0       0           0\n",
       "4        40       0.0     1        0       0        0       0           0"
      ]
     },
     "execution_count": 39,
     "metadata": {},
     "output_type": "execute_result"
    }
   ],
   "source": [
    "anova.head()"
   ]
  },
  {
   "cell_type": "code",
   "execution_count": 40,
   "metadata": {},
   "outputs": [
    {
     "data": {
      "text/html": [
       "<div>\n",
       "<style scoped>\n",
       "    .dataframe tbody tr th:only-of-type {\n",
       "        vertical-align: middle;\n",
       "    }\n",
       "\n",
       "    .dataframe tbody tr th {\n",
       "        vertical-align: top;\n",
       "    }\n",
       "\n",
       "    .dataframe thead th {\n",
       "        text-align: right;\n",
       "    }\n",
       "</style>\n",
       "<table border=\"1\" class=\"dataframe\">\n",
       "  <thead>\n",
       "    <tr style=\"text-align: right;\">\n",
       "      <th></th>\n",
       "      <th>Quantity</th>\n",
       "    </tr>\n",
       "  </thead>\n",
       "  <tbody>\n",
       "    <tr>\n",
       "      <th>count</th>\n",
       "      <td>1317.000000</td>\n",
       "    </tr>\n",
       "    <tr>\n",
       "      <th>mean</th>\n",
       "      <td>21.715262</td>\n",
       "    </tr>\n",
       "    <tr>\n",
       "      <th>std</th>\n",
       "      <td>17.507493</td>\n",
       "    </tr>\n",
       "    <tr>\n",
       "      <th>min</th>\n",
       "      <td>1.000000</td>\n",
       "    </tr>\n",
       "    <tr>\n",
       "      <th>25%</th>\n",
       "      <td>10.000000</td>\n",
       "    </tr>\n",
       "    <tr>\n",
       "      <th>50%</th>\n",
       "      <td>18.000000</td>\n",
       "    </tr>\n",
       "    <tr>\n",
       "      <th>75%</th>\n",
       "      <td>30.000000</td>\n",
       "    </tr>\n",
       "    <tr>\n",
       "      <th>max</th>\n",
       "      <td>130.000000</td>\n",
       "    </tr>\n",
       "  </tbody>\n",
       "</table>\n",
       "</div>"
      ],
      "text/plain": [
       "          Quantity\n",
       "count  1317.000000\n",
       "mean     21.715262\n",
       "std      17.507493\n",
       "min       1.000000\n",
       "25%      10.000000\n",
       "50%      18.000000\n",
       "75%      30.000000\n",
       "max     130.000000"
      ]
     },
     "execution_count": 40,
     "metadata": {},
     "output_type": "execute_result"
    }
   ],
   "source": [
    "c.execute(\"\"\"SELECT quantity\n",
    "             FROM orderdetail AS O\n",
    "             JOIN product AS P\n",
    "             ON (O.productid = P.id)\n",
    "             WHERE discount = 0\n",
    "             ;\"\"\")\n",
    "quan_at_zero = pd.DataFrame(c.fetchall())\n",
    "quan_at_zero.columns = [x[0] for x in c.description]\n",
    "quan_at_zero.head(3)\n",
    "quan_at_zero.describe()"
   ]
  },
  {
   "cell_type": "code",
   "execution_count": 41,
   "metadata": {},
   "outputs": [
    {
     "data": {
      "text/html": [
       "<div>\n",
       "<style scoped>\n",
       "    .dataframe tbody tr th:only-of-type {\n",
       "        vertical-align: middle;\n",
       "    }\n",
       "\n",
       "    .dataframe tbody tr th {\n",
       "        vertical-align: top;\n",
       "    }\n",
       "\n",
       "    .dataframe thead th {\n",
       "        text-align: right;\n",
       "    }\n",
       "</style>\n",
       "<table border=\"1\" class=\"dataframe\">\n",
       "  <thead>\n",
       "    <tr style=\"text-align: right;\">\n",
       "      <th></th>\n",
       "      <th>Quantity</th>\n",
       "    </tr>\n",
       "  </thead>\n",
       "  <tbody>\n",
       "    <tr>\n",
       "      <th>0</th>\n",
       "      <td>6</td>\n",
       "    </tr>\n",
       "    <tr>\n",
       "      <th>1</th>\n",
       "      <td>15</td>\n",
       "    </tr>\n",
       "    <tr>\n",
       "      <th>2</th>\n",
       "      <td>40</td>\n",
       "    </tr>\n",
       "    <tr>\n",
       "      <th>3</th>\n",
       "      <td>25</td>\n",
       "    </tr>\n",
       "    <tr>\n",
       "      <th>4</th>\n",
       "      <td>12</td>\n",
       "    </tr>\n",
       "  </tbody>\n",
       "</table>\n",
       "</div>"
      ],
      "text/plain": [
       "   Quantity\n",
       "0         6\n",
       "1        15\n",
       "2        40\n",
       "3        25\n",
       "4        12"
      ]
     },
     "execution_count": 41,
     "metadata": {},
     "output_type": "execute_result"
    }
   ],
   "source": [
    "c.execute(\"\"\"SELECT quantity\n",
    "             FROM orderdetail AS O\n",
    "             JOIN product AS P\n",
    "             ON (O.productid = P.id)\n",
    "             WHERE discount > 0.0 and discount <= 0.05\n",
    "             ;\"\"\")\n",
    "quan_at_onefive = pd.DataFrame(c.fetchall())\n",
    "quan_at_onefive.columns = [x[0] for x in c.description]\n",
    "quan_at_onefive.head()"
   ]
  },
  {
   "cell_type": "code",
   "execution_count": 42,
   "metadata": {},
   "outputs": [],
   "source": [
    "c.execute(\"\"\"SELECT quantity\n",
    "             FROM orderdetail AS O\n",
    "             JOIN product AS P\n",
    "             ON (O.productid = P.id)\n",
    "             WHERE discount > 0.05 and discount <= 0.1\n",
    "             ;\"\"\")\n",
    "quan_at_sixten = pd.DataFrame(c.fetchall())\n",
    "quan_at_sixten.columns = [x[0] for x in c.description]\n"
   ]
  },
  {
   "cell_type": "code",
   "execution_count": 43,
   "metadata": {},
   "outputs": [],
   "source": [
    "c.execute(\"\"\"SELECT quantity\n",
    "             FROM orderdetail AS O\n",
    "             JOIN product AS P\n",
    "             ON (O.productid = P.id)\n",
    "             WHERE discount = 0.15\n",
    "             ;\"\"\")\n",
    "quan_at_fifteen = pd.DataFrame(c.fetchall())\n",
    "quan_at_fifteen.columns = [x[0] for x in c.description]"
   ]
  },
  {
   "cell_type": "code",
   "execution_count": 44,
   "metadata": {},
   "outputs": [],
   "source": [
    "c.execute(\"\"\"SELECT quantity\n",
    "             FROM orderdetail AS O\n",
    "             JOIN product AS P\n",
    "             ON (O.productid = P.id)\n",
    "             WHERE discount = 0.20\n",
    "             ;\"\"\")\n",
    "quan_at_twenty = pd.DataFrame(c.fetchall())\n",
    "quan_at_twenty.columns = [x[0] for x in c.description]\n"
   ]
  },
  {
   "cell_type": "code",
   "execution_count": 45,
   "metadata": {},
   "outputs": [],
   "source": [
    "c.execute(\"\"\"SELECT quantity\n",
    "             FROM orderdetail AS O\n",
    "             JOIN product AS P\n",
    "             ON (O.productid = P.id)\n",
    "             WHERE discount = 0.25\n",
    "             ;\"\"\")\n",
    "quan_at_twentyfive = pd.DataFrame(c.fetchall())\n",
    "quan_at_twentyfive.columns = [x[0] for x in c.description]\n"
   ]
  },
  {
   "cell_type": "code",
   "execution_count": 46,
   "metadata": {},
   "outputs": [
    {
     "name": "stdout",
     "output_type": "stream",
     "text": [
      "[0.00086072] [0.02237801] [8.61036472e-05] [0.0004055] [7.96152546e-05]\n"
     ]
    }
   ],
   "source": [
    "#Compare 0 to onefive\n",
    "t1 = welch_t(quan_at_zero,quan_at_onefive)\n",
    "df1 = welch_df(quan_at_zero,quan_at_onefive)\n",
    "p1 = 1 - stats.t.cdf(t1, df1)\n",
    "\n",
    "#Compare 0 to sixten\n",
    "t2 = welch_t(quan_at_zero,quan_at_sixten)\n",
    "df2 = welch_df(quan_at_zero,quan_at_sixten)\n",
    "p2 = 1 - stats.t.cdf(t2, df2)\n",
    "\n",
    "#Compare 0 to fifteen\n",
    "t3 = welch_t(quan_at_zero,quan_at_fifteen)\n",
    "df3 = welch_df(quan_at_zero,quan_at_fifteen)\n",
    "p3 = 1 - stats.t.cdf(t3, df3)\n",
    "\n",
    "#Compare 0 to twenty\n",
    "t4 = welch_t(quan_at_zero,quan_at_twenty)\n",
    "df4 = welch_df(quan_at_zero,quan_at_twenty)\n",
    "p4 = 1 - stats.t.cdf(t4, df4)\n",
    "\n",
    "#Compare 0 to twentyfive\n",
    "t5 = welch_t(quan_at_zero,quan_at_twentyfive)\n",
    "df5 = welch_df(quan_at_zero,quan_at_twentyfive)\n",
    "p5 = 1 - stats.t.cdf(t5, df5)\n",
    "\n",
    "print(p1,p2,p3,p4,p5)"
   ]
  },
  {
   "cell_type": "code",
   "execution_count": null,
   "metadata": {},
   "outputs": [],
   "source": []
  }
 ],
 "metadata": {
  "kernelspec": {
   "display_name": "Python [conda env:learn-env] *",
   "language": "python",
   "name": "conda-env-learn-env-py"
  },
  "language_info": {
   "codemirror_mode": {
    "name": "ipython",
    "version": 3
   },
   "file_extension": ".py",
   "mimetype": "text/x-python",
   "name": "python",
   "nbconvert_exporter": "python",
   "pygments_lexer": "ipython3",
   "version": "3.6.6"
  }
 },
 "nbformat": 4,
 "nbformat_minor": 2
}
